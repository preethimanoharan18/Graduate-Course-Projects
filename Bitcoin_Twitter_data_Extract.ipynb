{
 "cells": [
  {
   "cell_type": "code",
   "execution_count": 1,
   "metadata": {},
   "outputs": [],
   "source": [
    "import tweepy\n",
    "import webbrowser\n",
    "import time\n",
    "import pandas as pd"
   ]
  },
  {
   "cell_type": "code",
   "execution_count": 2,
   "metadata": {},
   "outputs": [
    {
     "name": "stdout",
     "output_type": "stream",
     "text": [
      "Requirement already satisfied: tweepy in c:\\users\\prasa\\anaconda3\\lib\\site-packages (3.10.0)\n",
      "Requirement already satisfied: six>=1.10.0 in c:\\users\\prasa\\anaconda3\\lib\\site-packages (from tweepy) (1.15.0)\n",
      "Requirement already satisfied: requests[socks]>=2.11.1 in c:\\users\\prasa\\anaconda3\\lib\\site-packages (from tweepy) (2.24.0)\n",
      "Requirement already satisfied: requests-oauthlib>=0.7.0 in c:\\users\\prasa\\anaconda3\\lib\\site-packages (from tweepy) (1.3.0)\n",
      "Requirement already satisfied: idna<3,>=2.5 in c:\\users\\prasa\\anaconda3\\lib\\site-packages (from requests[socks]>=2.11.1->tweepy) (2.10)\n",
      "Requirement already satisfied: certifi>=2017.4.17 in c:\\users\\prasa\\anaconda3\\lib\\site-packages (from requests[socks]>=2.11.1->tweepy) (2020.6.20)\n",
      "Requirement already satisfied: urllib3!=1.25.0,!=1.25.1,<1.26,>=1.21.1 in c:\\users\\prasa\\anaconda3\\lib\\site-packages (from requests[socks]>=2.11.1->tweepy) (1.25.11)\n",
      "Requirement already satisfied: chardet<4,>=3.0.2 in c:\\users\\prasa\\anaconda3\\lib\\site-packages (from requests[socks]>=2.11.1->tweepy) (3.0.4)\n",
      "Requirement already satisfied: PySocks!=1.5.7,>=1.5.6; extra == \"socks\" in c:\\users\\prasa\\anaconda3\\lib\\site-packages (from requests[socks]>=2.11.1->tweepy) (1.7.1)\n",
      "Requirement already satisfied: oauthlib>=3.0.0 in c:\\users\\prasa\\anaconda3\\lib\\site-packages (from requests-oauthlib>=0.7.0->tweepy) (3.1.1)\n",
      "Note: you may need to restart the kernel to use updated packages.\n"
     ]
    }
   ],
   "source": [
    "pip install tweepy"
   ]
  },
  {
   "cell_type": "code",
   "execution_count": 4,
   "metadata": {},
   "outputs": [],
   "source": [
    "consumerKey = \"ln0PJKYEABh9ZmM4iaKWXtYUI\"\n",
    "consumerSecret = \"qly5fr9Q1vJWUnQs6G2dXTQCIX09ghr2hV3EQppnzUEP7uLHQ1\"\n",
    "access_token = \"tVkjJ7UyPJPBPwobsj59yUX3o\"\n",
    "access_token_secret = \"vImZWwhEMfbhrfqc6bKGmJUPXBMSMK2qZZUrmfPtZjLnKG8Huf\""
   ]
  },
  {
   "cell_type": "code",
   "execution_count": 5,
   "metadata": {},
   "outputs": [],
   "source": [
    "authenticate = tweepy.OAuthHandler(consumerKey,consumerSecret)\n",
    "api = tweepy.API(authenticate,wait_on_rate_limit = True)\n"
   ]
  },
  {
   "cell_type": "code",
   "execution_count": 8,
   "metadata": {},
   "outputs": [],
   "source": [
    "number_of_tweets = 10000\n",
    "tweets = []\n",
    "time = []\n",
    "\n",
    "for i in tweepy.Cursor(api.search, q=\"bitcoin\", tweet_mode=\"extended\", lang =\"en\", until=\"2021-07-28\" ).items(number_of_tweets):\n",
    "    tweets.append(i.full_text)\n",
    "    time.append(i.created_at)\n"
   ]
  },
  {
   "cell_type": "code",
   "execution_count": 9,
   "metadata": {},
   "outputs": [
    {
     "data": {
      "text/html": [
       "<div>\n",
       "<style scoped>\n",
       "    .dataframe tbody tr th:only-of-type {\n",
       "        vertical-align: middle;\n",
       "    }\n",
       "\n",
       "    .dataframe tbody tr th {\n",
       "        vertical-align: top;\n",
       "    }\n",
       "\n",
       "    .dataframe thead th {\n",
       "        text-align: right;\n",
       "    }\n",
       "</style>\n",
       "<table border=\"1\" class=\"dataframe\">\n",
       "  <thead>\n",
       "    <tr style=\"text-align: right;\">\n",
       "      <th></th>\n",
       "      <th>tweets</th>\n",
       "      <th>time</th>\n",
       "    </tr>\n",
       "  </thead>\n",
       "  <tbody>\n",
       "    <tr>\n",
       "      <th>0</th>\n",
       "      <td>RT @ValerySobolev: You will be able to receive...</td>\n",
       "      <td>2021-07-27 23:59:59</td>\n",
       "    </tr>\n",
       "    <tr>\n",
       "      <th>1</th>\n",
       "      <td>RT @AirdropDet: 🔍 New #Airdrop: OUD Token\\n\\n💲...</td>\n",
       "      <td>2021-07-27 23:59:59</td>\n",
       "    </tr>\n",
       "    <tr>\n",
       "      <th>2</th>\n",
       "      <td>Hey I joined a network called SurveyJ and earn...</td>\n",
       "      <td>2021-07-27 23:59:58</td>\n",
       "    </tr>\n",
       "    <tr>\n",
       "      <th>3</th>\n",
       "      <td>RT @crypto: Trading volume of Ether, the secon...</td>\n",
       "      <td>2021-07-27 23:59:58</td>\n",
       "    </tr>\n",
       "    <tr>\n",
       "      <th>4</th>\n",
       "      <td>From education to bitcoin, China's season of r...</td>\n",
       "      <td>2021-07-27 23:59:57</td>\n",
       "    </tr>\n",
       "    <tr>\n",
       "      <th>...</th>\n",
       "      <td>...</td>\n",
       "      <td>...</td>\n",
       "    </tr>\n",
       "    <tr>\n",
       "      <th>9995</th>\n",
       "      <td>#Bitcoin I dare ya to match me! \\nStill growin...</td>\n",
       "      <td>2021-07-27 22:33:56</td>\n",
       "    </tr>\n",
       "    <tr>\n",
       "      <th>9996</th>\n",
       "      <td>Bullish \\nhttps://t.co/Yoi8mGJzbA</td>\n",
       "      <td>2021-07-27 22:33:55</td>\n",
       "    </tr>\n",
       "    <tr>\n",
       "      <th>9997</th>\n",
       "      <td>RT @IIICapital: The same people who say 1 #Bit...</td>\n",
       "      <td>2021-07-27 22:33:54</td>\n",
       "    </tr>\n",
       "    <tr>\n",
       "      <th>9998</th>\n",
       "      <td>RT @AirdropDet: 🔍 New #Airdrop: iNf4mation\\n\\n...</td>\n",
       "      <td>2021-07-27 22:33:52</td>\n",
       "    </tr>\n",
       "    <tr>\n",
       "      <th>9999</th>\n",
       "      <td>RT @SusanLiTV: RECORD QUARTER FOR #APPLE 📲\\nBE...</td>\n",
       "      <td>2021-07-27 22:33:52</td>\n",
       "    </tr>\n",
       "  </tbody>\n",
       "</table>\n",
       "<p>10000 rows × 2 columns</p>\n",
       "</div>"
      ],
      "text/plain": [
       "                                                 tweets                time\n",
       "0     RT @ValerySobolev: You will be able to receive... 2021-07-27 23:59:59\n",
       "1     RT @AirdropDet: 🔍 New #Airdrop: OUD Token\\n\\n💲... 2021-07-27 23:59:59\n",
       "2     Hey I joined a network called SurveyJ and earn... 2021-07-27 23:59:58\n",
       "3     RT @crypto: Trading volume of Ether, the secon... 2021-07-27 23:59:58\n",
       "4     From education to bitcoin, China's season of r... 2021-07-27 23:59:57\n",
       "...                                                 ...                 ...\n",
       "9995  #Bitcoin I dare ya to match me! \\nStill growin... 2021-07-27 22:33:56\n",
       "9996                  Bullish \\nhttps://t.co/Yoi8mGJzbA 2021-07-27 22:33:55\n",
       "9997  RT @IIICapital: The same people who say 1 #Bit... 2021-07-27 22:33:54\n",
       "9998  RT @AirdropDet: 🔍 New #Airdrop: iNf4mation\\n\\n... 2021-07-27 22:33:52\n",
       "9999  RT @SusanLiTV: RECORD QUARTER FOR #APPLE 📲\\nBE... 2021-07-27 22:33:52\n",
       "\n",
       "[10000 rows x 2 columns]"
      ]
     },
     "execution_count": 9,
     "metadata": {},
     "output_type": "execute_result"
    }
   ],
   "source": [
    "df = pd.DataFrame({'tweets':tweets,'time':time})\n",
    "df"
   ]
  },
  {
   "cell_type": "code",
   "execution_count": 12,
   "metadata": {},
   "outputs": [],
   "source": [
    "import csv\n",
    "df.to_csv(\"C:\\\\Users\\\\prasa\\\\Twitter_BitCoinData_July.csv\", index=True, header=True)\n"
   ]
  },
  {
   "cell_type": "code",
   "execution_count": null,
   "metadata": {},
   "outputs": [],
   "source": []
  }
 ],
 "metadata": {
  "kernelspec": {
   "display_name": "Python 3",
   "language": "python",
   "name": "python3"
  },
  "language_info": {
   "codemirror_mode": {
    "name": "ipython",
    "version": 3
   },
   "file_extension": ".py",
   "mimetype": "text/x-python",
   "name": "python",
   "nbconvert_exporter": "python",
   "pygments_lexer": "ipython3",
   "version": "3.8.5"
  }
 },
 "nbformat": 4,
 "nbformat_minor": 4
}
